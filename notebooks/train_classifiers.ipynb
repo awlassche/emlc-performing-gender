{
 "cells": [
  {
   "cell_type": "code",
   "execution_count": 13,
   "metadata": {},
   "outputs": [],
   "source": [
    "from datasets import load_from_disk\n",
    "\n",
    "import pandas as pd\n",
    "import numpy as np\n",
    "from sklearn.feature_extraction.text import TfidfVectorizer\n",
    "from sklearn.linear_model import LogisticRegression\n",
    "from sklearn.model_selection import train_test_split\n",
    "from sklearn.metrics import classification_report\n",
    "from sklearn.utils import resample\n",
    "from tqdm import tqdm\n",
    "from collections import Counter"
   ]
  },
  {
   "cell_type": "code",
   "execution_count": 49,
   "metadata": {},
   "outputs": [],
   "source": [
    "# Load the dataset from the folder path\n",
    "dataset = load_from_disk(\"../results/gysbert_embs_300\")\n",
    "\n",
    "# Optionally convert to pandas DataFrame\n",
    "df = dataset.to_pandas()\n",
    "\n",
    "# Filter only MALE and FEMALE\n",
    "df = df[df['gender'].isin(['MALE', 'FEMALE'])]"
   ]
  },
  {
   "cell_type": "markdown",
   "metadata": {},
   "source": [
    "### TF-IDF"
   ]
  },
  {
   "cell_type": "code",
   "execution_count": 7,
   "metadata": {},
   "outputs": [],
   "source": [
    "# Store per-class results\n",
    "results = {\n",
    "    'MALE': {'precision': [], 'recall': [], 'f1-score': []},\n",
    "    'FEMALE': {'precision': [], 'recall': [], 'f1-score': []},\n",
    "    'accuracy': []\n",
    "}"
   ]
  },
  {
   "cell_type": "code",
   "execution_count": 27,
   "metadata": {},
   "outputs": [],
   "source": [
    "import string\n",
    "\n",
    "def clean_text(text):\n",
    "    # Lowercase and remove punctuation\n",
    "    text = text.lower()\n",
    "    return text.translate(str.maketrans('', '', string.punctuation))"
   ]
  },
  {
   "cell_type": "code",
   "execution_count": 44,
   "metadata": {},
   "outputs": [
    {
     "name": "stderr",
     "output_type": "stream",
     "text": [
      "Evaluations: 100%|██████████| 50/50 [00:58<00:00,  1.16s/it]"
     ]
    },
    {
     "name": "stdout",
     "output_type": "stream",
     "text": [
      "\n",
      "✅ Average Results over 50 iterations:\n",
      "\n",
      "MALE:\n",
      "  Precision: 0.7543\n",
      "  Recall: 0.7608\n",
      "  F1-score: 0.7569\n",
      "\n",
      "FEMALE:\n",
      "  Precision: 0.7609\n",
      "  Recall: 0.7527\n",
      "  F1-score: 0.7561\n",
      "\n",
      "Overall Accuracy: 0.7567\n"
     ]
    },
    {
     "name": "stderr",
     "output_type": "stream",
     "text": [
      "\n"
     ]
    }
   ],
   "source": [
    "# Run 50 iterations\n",
    "for i in tqdm(range(50), desc=\"Evaluations\"):\n",
    "    # Balance the dataset\n",
    "    male_df = df[df['gender'] == 'MALE']\n",
    "    female_df = df[df['gender'] == 'FEMALE']\n",
    "    min_size = min(len(male_df), len(female_df))\n",
    "\n",
    "    male_sample = resample(male_df, n_samples=min_size, random_state=i)\n",
    "    female_sample = resample(female_df, n_samples=min_size, random_state=i)\n",
    "\n",
    "    balanced_df = pd.concat([male_sample, female_sample]).sample(frac=1, random_state=i).reset_index(drop=True)\n",
    "\n",
    "    # Features and labels\n",
    "    X = balanced_df['speech_chunk']\n",
    "    y = balanced_df['gender']\n",
    "\n",
    "    # TF-IDF\n",
    "    vectorizer = TfidfVectorizer(\n",
    "    ngram_range=(2, 3),\n",
    "    min_df=3,\n",
    "    max_df=0.9,\n",
    "    preprocessor=clean_text\n",
    ")\n",
    "    X_tfidf = vectorizer.fit_transform(X)\n",
    "\n",
    "    # Train/test split\n",
    "    X_train, X_test, y_train, y_test = train_test_split(X_tfidf, y, test_size=0.2, random_state=i, stratify=y)\n",
    "\n",
    "    # Train model\n",
    "    clf = LogisticRegression(max_iter=1000)\n",
    "    clf.fit(X_train, y_train)\n",
    "\n",
    "    # Evaluate\n",
    "    y_pred = clf.predict(X_test)\n",
    "    report = classification_report(y_test, y_pred, output_dict=True)\n",
    "\n",
    "    for gender in ['MALE', 'FEMALE']:\n",
    "        for metric in ['precision', 'recall', 'f1-score']:\n",
    "            results[gender][metric].append(report[gender][metric])\n",
    "    results['accuracy'].append(report['accuracy'])\n",
    "\n",
    "# Calculate and display averages\n",
    "print(\"\\n✅ Average Results over 50 iterations:\")\n",
    "for gender in ['MALE', 'FEMALE']:\n",
    "    print(f\"\\n{gender}:\")\n",
    "    for metric in ['precision', 'recall', 'f1-score']:\n",
    "        avg = np.mean(results[gender][metric])\n",
    "        print(f\"  {metric.capitalize()}: {avg:.4f}\")\n",
    "\n",
    "print(f\"\\nOverall Accuracy: {np.mean(results['accuracy']):.4f}\")"
   ]
  },
  {
   "cell_type": "markdown",
   "metadata": {},
   "source": [
    "### Embeddings"
   ]
  },
  {
   "cell_type": "code",
   "execution_count": 50,
   "metadata": {},
   "outputs": [
    {
     "name": "stderr",
     "output_type": "stream",
     "text": [
      "Evaluations: 100%|██████████| 50/50 [00:17<00:00,  2.92it/s]"
     ]
    },
    {
     "name": "stdout",
     "output_type": "stream",
     "text": [
      "\n",
      "✅ Average Results over 50 iterations:\n",
      "\n",
      "MALE:\n",
      "  Precision: 0.7516\n",
      "  Recall: 0.7547\n",
      "  F1-score: 0.7525\n",
      "\n",
      "FEMALE:\n",
      "  Precision: 0.7558\n",
      "  Recall: 0.7510\n",
      "  F1-score: 0.7527\n",
      "\n",
      "Overall Accuracy: 0.7528\n"
     ]
    },
    {
     "name": "stderr",
     "output_type": "stream",
     "text": [
      "\n"
     ]
    }
   ],
   "source": [
    "# Run 50 iterations\n",
    "for i in tqdm(range(50), desc=\"Evaluations\"):\n",
    "    # Balance the dataset\n",
    "    male_df = df[df['gender'] == 'MALE']\n",
    "    female_df = df[df['gender'] == 'FEMALE']\n",
    "    min_size = min(len(male_df), len(female_df))\n",
    "\n",
    "    male_sample = resample(male_df, n_samples=min_size, random_state=i)\n",
    "    female_sample = resample(female_df, n_samples=min_size, random_state=i)\n",
    "\n",
    "    balanced_df = pd.concat([male_sample, female_sample]).sample(frac=1, random_state=i).reset_index(drop=True)\n",
    "\n",
    "    # Prepare features and labels\n",
    "    X = np.vstack(balanced_df['embedding'].values)\n",
    "    y = balanced_df['gender'].values\n",
    "\n",
    "    # Train/test split\n",
    "    X_train, X_test, y_train, y_test = train_test_split(X, y, test_size=0.2, random_state=i, stratify=y)\n",
    "\n",
    "    # Print class sizes\n",
    "    train_counts = Counter(y_train)\n",
    "    test_counts = Counter(y_test)\n",
    "    #print(f\"\\nIteration {i + 1}\")\n",
    "    #print(f\"  Train set → MALE: {train_counts['MALE']}, FEMALE: {train_counts['FEMALE']}\")\n",
    "    #print(f\"  Test set  → MALE: {test_counts['MALE']}, FEMALE: {test_counts['FEMALE']}\")\n",
    "\n",
    "    # Train classifier\n",
    "    clf = LogisticRegression(max_iter=1000)\n",
    "    clf.fit(X_train, y_train)\n",
    "\n",
    "    # Evaluate\n",
    "    y_pred = clf.predict(X_test)\n",
    "    report = classification_report(y_test, y_pred, output_dict=True)\n",
    "\n",
    "    for gender in ['MALE', 'FEMALE']:\n",
    "        for metric in ['precision', 'recall', 'f1-score']:\n",
    "            results[gender][metric].append(report[gender][metric])\n",
    "    results['accuracy'].append(report['accuracy'])\n",
    "\n",
    "# Aggregate and print results\n",
    "print(\"\\n✅ Average Results over 50 iterations:\")\n",
    "for gender in ['MALE', 'FEMALE']:\n",
    "    print(f\"\\n{gender}:\")\n",
    "    for metric in ['precision', 'recall', 'f1-score']:\n",
    "        avg = np.mean(results[gender][metric])\n",
    "        print(f\"  {metric.capitalize()}: {avg:.4f}\")\n",
    "\n",
    "print(f\"\\nOverall Accuracy: {np.mean(results['accuracy']):.4f}\")"
   ]
  }
 ],
 "metadata": {
  "kernelspec": {
   "display_name": "Python 3",
   "language": "python",
   "name": "python3"
  },
  "language_info": {
   "codemirror_mode": {
    "name": "ipython",
    "version": 3
   },
   "file_extension": ".py",
   "mimetype": "text/x-python",
   "name": "python",
   "nbconvert_exporter": "python",
   "pygments_lexer": "ipython3",
   "version": "3.9.6"
  }
 },
 "nbformat": 4,
 "nbformat_minor": 2
}
